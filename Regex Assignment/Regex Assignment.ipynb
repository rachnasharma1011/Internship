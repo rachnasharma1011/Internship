{
 "cells": [
  {
   "cell_type": "markdown",
   "id": "e0806520",
   "metadata": {},
   "source": [
    "# Question 1- Write a Python program to replace all occurrences of a space, comma, or dot with a colon."
   ]
  },
  {
   "cell_type": "code",
   "execution_count": 1,
   "id": "938161ed",
   "metadata": {},
   "outputs": [
    {
     "name": "stdout",
     "output_type": "stream",
     "text": [
      "Python:Exercises::PHP:exercises:\n"
     ]
    }
   ],
   "source": [
    "import re\n",
    "\n",
    "string='Python Exercises, PHP exercises.'\n",
    "print(re.sub(r\"\\W\",\":\",string))"
   ]
  },
  {
   "cell_type": "code",
   "execution_count": 2,
   "id": "9c6e329f",
   "metadata": {},
   "outputs": [
    {
     "name": "stdout",
     "output_type": "stream",
     "text": [
      "Python:Exercises::PHP:exercises:\n"
     ]
    }
   ],
   "source": [
    "import re\n",
    "\n",
    "string='Python Exercises, PHP exercises.'\n",
    "print(re.sub(r\"[\\s,.]\",\":\",string))"
   ]
  },
  {
   "cell_type": "markdown",
   "id": "4fc52507",
   "metadata": {},
   "source": [
    "# Question 2-  Write a Python program to find all words starting with 'a' or 'e' in a given string"
   ]
  },
  {
   "cell_type": "code",
   "execution_count": 3,
   "id": "ab859b2a",
   "metadata": {},
   "outputs": [
    {
     "name": "stdout",
     "output_type": "stream",
     "text": [
      "['a', 'a', 'evening']\n"
     ]
    }
   ],
   "source": [
    "import re\n",
    "str='one bright sunny day a quick brown fox jump on a lazy dog in the evening'\n",
    "\n",
    "print(re.findall(r\"\\ba|e\\w+\", str))"
   ]
  },
  {
   "cell_type": "code",
   "execution_count": 4,
   "id": "2749c257",
   "metadata": {},
   "outputs": [
    {
     "name": "stdout",
     "output_type": "stream",
     "text": [
      "['an', 'a', 'evening']\n"
     ]
    }
   ],
   "source": [
    "import re\n",
    "str='one bright sunny day an quick brown fox jump on a lazy dog in the evening'\n",
    "\n",
    "print(re.findall(r\"\\b[a|e][a-z]*\", str))"
   ]
  },
  {
   "cell_type": "markdown",
   "id": "3fdf30ea",
   "metadata": {},
   "source": [
    "# Question 3- Create a function in python to find all words that are at least 4 characters long in a string. The use of the re.compile() method is mandatory."
   ]
  },
  {
   "cell_type": "code",
   "execution_count": 5,
   "id": "80a6f382",
   "metadata": {},
   "outputs": [
    {
     "name": "stdout",
     "output_type": "stream",
     "text": [
      "['bright', 'sunny', 'quick', 'brown', 'jump', 'lazy', 'evening']\n"
     ]
    }
   ],
   "source": [
    "import re\n",
    "str='one bright sunny day a quick brown fox jump on a lazy dog in the evening'\n",
    "p=re.compile(r\"\\w{4,10}\")\n",
    "print(re.findall(p,str))"
   ]
  },
  {
   "cell_type": "code",
   "execution_count": 6,
   "id": "70014961",
   "metadata": {},
   "outputs": [
    {
     "name": "stdout",
     "output_type": "stream",
     "text": [
      "['jump', 'lazy']\n"
     ]
    }
   ],
   "source": [
    "#to find only four character words\n",
    "import re\n",
    "str='one bright sunny day a quick brown fox jump on a lazy dog in the evening'\n",
    "p=re.compile(r\"\\b\\w{4}\\b\")\n",
    "print(re.findall(p,str))"
   ]
  },
  {
   "cell_type": "markdown",
   "id": "3e951fc1",
   "metadata": {},
   "source": [
    "# Question 4- Create a function in python to find all three, four, and five character words in a string. The use of the re.compile() method is mandatory."
   ]
  },
  {
   "cell_type": "code",
   "execution_count": 7,
   "id": "2796022e",
   "metadata": {},
   "outputs": [
    {
     "name": "stdout",
     "output_type": "stream",
     "text": [
      "['one', 'sunny', 'day', 'quick', 'brown', 'fox', 'jump', 'lazy', 'dog', 'the']\n"
     ]
    }
   ],
   "source": [
    "import re\n",
    "str='one bright sunny day a quick brown fox jump on a lazy dog in the evening'\n",
    "p=re.compile(r\"\\b\\w{3,5}\\b\")\n",
    "print(re.findall(p,str))"
   ]
  },
  {
   "cell_type": "markdown",
   "id": "5fc7fb77",
   "metadata": {},
   "source": [
    "# Question 5- Create a function in Python to remove the parenthesis in a list of strings. The use of the re.compile() method is mandatory."
   ]
  },
  {
   "cell_type": "code",
   "execution_count": 8,
   "id": "97197316",
   "metadata": {},
   "outputs": [
    {
     "name": "stdout",
     "output_type": "stream",
     "text": [
      "example.com\n",
      "hr@fliprobo.com\n",
      "github.com\n",
      "Hello Data Science World\n",
      "Data Scientist\n"
     ]
    }
   ],
   "source": [
    "import re\n",
    "data=[\"example(.com)\",  \"hr@fliprobo(.com)\",  \"github(.com)\",  \"Hello (Data Science World)\",  \"Data (Scientist)\"]  \n",
    "m= re.compile(r\"[(|)]\")\n",
    "for i in data:\n",
    "    print(re.sub(m, \"\" ,i))"
   ]
  },
  {
   "cell_type": "code",
   "execution_count": 9,
   "id": "135cfce5",
   "metadata": {},
   "outputs": [
    {
     "name": "stdout",
     "output_type": "stream",
     "text": [
      "example.com\n",
      "hr@fliprobo.com\n",
      "github.com\n",
      "Hello Data Science World\n",
      "Data Scientist\n"
     ]
    }
   ],
   "source": [
    "import re\n",
    "data=[\"example(.com)\",  \"hr@fliprobo(.com)\",  \"github(.com)\",  \"Hello (Data Science World)\",  \"Data (Scientist)\"]  \n",
    "m=re.compile(r\"[()]\")\n",
    "for i in data: \n",
    "    print (re.sub(m,\"\", i))"
   ]
  },
  {
   "cell_type": "code",
   "execution_count": 10,
   "id": "2e83d9c8",
   "metadata": {},
   "outputs": [
    {
     "name": "stdout",
     "output_type": "stream",
     "text": [
      "example.com\n",
      "hr@fliprobo.com\n",
      "github.com\n",
      "Hello Data Science World\n",
      "Data Scientist\n"
     ]
    }
   ],
   "source": [
    "import re\n",
    "data=[\"example(.com)\",  \"hr@fliprobo(.com)\",  \"github(.com)\",  \"Hello (Data Science World)\",  \"Data (Scientist)\"]  \n",
    "for i in data:\n",
    "    print(re.sub(r\"[^ a-zA-Z0-9@.]+\", \"\" ,i))"
   ]
  },
  {
   "cell_type": "markdown",
   "id": "9cb46d37",
   "metadata": {},
   "source": [
    "# Question 6- Write a python program to remove the parenthesis area from the text stored in the text file using Regular Expression."
   ]
  },
  {
   "cell_type": "code",
   "execution_count": 11,
   "id": "9f1f124f",
   "metadata": {},
   "outputs": [
    {
     "name": "stdout",
     "output_type": "stream",
     "text": [
      "example\n",
      "hr@fliprobo\n",
      "github\n",
      "Hello\n",
      "Data\n"
     ]
    }
   ],
   "source": [
    "import re\n",
    "data=[\"example(.com)\",  \"hr@fliprobo(.com)\",  \"github(.com)\",  \"Hello (Data Science World)\",  \"Data (Scientist)\"] \n",
    "for i in data:\n",
    "    print(re.sub(r\" ?\\(\\.?[^)]+\\)\",\"\",i))"
   ]
  },
  {
   "cell_type": "code",
   "execution_count": 12,
   "id": "2e03a065",
   "metadata": {},
   "outputs": [
    {
     "name": "stdout",
     "output_type": "stream",
     "text": [
      "example\n",
      "hr@fliprobo\n",
      "github\n",
      "Hello\n",
      "Data\n"
     ]
    }
   ],
   "source": [
    "\n",
    "import re\n",
    "data=[\"example(.com)\",  \"hr@fliprobo(.com)\",  \"github(.com)\",  \"Hello (Data Science World)\",  \"Data (Scientist)\"] \n",
    "for i in data:\n",
    "    print(re.sub(r' ?\\([^)]+\\)',\"\",i))"
   ]
  },
  {
   "cell_type": "markdown",
   "id": "c3480e84",
   "metadata": {},
   "source": [
    "# Question 7- Write a regular expression in Python to split a string into uppercase letters."
   ]
  },
  {
   "cell_type": "code",
   "execution_count": 13,
   "id": "fbd40766",
   "metadata": {},
   "outputs": [
    {
     "name": "stdout",
     "output_type": "stream",
     "text": [
      "['Importance', 'Of', 'Regular', 'Expressions', 'In', 'Python']\n"
     ]
    }
   ],
   "source": [
    "import re\n",
    "text=\"ImportanceOfRegularExpressionsInPython\"\n",
    "b=re.compile(r\"[A-Z][a-z]*\")\n",
    "print(re.findall(b, text))"
   ]
  },
  {
   "cell_type": "markdown",
   "id": "ac817dfd",
   "metadata": {},
   "source": [
    "# Question 8- Create a function in python to insert spaces between words starting with numbers."
   ]
  },
  {
   "cell_type": "code",
   "execution_count": 14,
   "id": "b2501078",
   "metadata": {},
   "outputs": [
    {
     "name": "stdout",
     "output_type": "stream",
     "text": [
      "RegularExpression 1IsAn 2ImportantTopic 3InPython\n"
     ]
    }
   ],
   "source": [
    "def new_text(text):\n",
    "    return re.sub(r\"(\\w)([0-9])\", r\"\\1 \\2\", text)\n",
    "   \n",
    "print(new_text(\"RegularExpression1IsAn2ImportantTopic3InPython\"))"
   ]
  },
  {
   "cell_type": "markdown",
   "id": "dde7577e",
   "metadata": {},
   "source": [
    "# Question 9- Create a function in python to insert spaces between words starting with capital letters or with numbers."
   ]
  },
  {
   "cell_type": "code",
   "execution_count": 15,
   "id": "66a78c62",
   "metadata": {},
   "outputs": [
    {
     "name": "stdout",
     "output_type": "stream",
     "text": [
      "Regular Expression 1Is An 2Important Topic 3In Python\n"
     ]
    }
   ],
   "source": [
    "def new_text(text):\n",
    "    return re.sub(r\"(\\w)([0-9]|[A-Z])\", r\"\\1 \\2\", text)\n",
    "   \n",
    "print(new_text(\"RegularExpression1IsAn2ImportantTopic3InPython\"))"
   ]
  },
  {
   "cell_type": "markdown",
   "id": "d09594bc",
   "metadata": {},
   "source": [
    "# Question 10- Write a python program to extract email address from the text stored in the text file using Regular Expression."
   ]
  },
  {
   "cell_type": "code",
   "execution_count": 16,
   "id": "69615fad",
   "metadata": {},
   "outputs": [
    {
     "name": "stdout",
     "output_type": "stream",
     "text": [
      "['xyz@domain.com', 'xyz.abc@sdomain.domain.com.', 'hr@fliprobo.com']\n"
     ]
    }
   ],
   "source": [
    "import re\n",
    "\n",
    "text=\"\"\"Hello my name is Data Science and my email address is xyz@domain.com and alternate email address is xyz.abc@sdomain.domain.com. \n",
    "Please contact us at hr@fliprobo.com for further information.\"\"\"\n",
    "\n",
    "email=re.findall(r\"[\\w.]{0,20}@[\\w]+.[A-Za-z.]*\",text)\n",
    "                 \n",
    "print(email)"
   ]
  },
  {
   "cell_type": "code",
   "execution_count": 17,
   "id": "4757b9b1",
   "metadata": {},
   "outputs": [
    {
     "name": "stdout",
     "output_type": "stream",
     "text": [
      "['xyz@domain.com', 'xyz.abc@sdomain.domain.com.', 'hr@fliprobo.com']\n"
     ]
    }
   ],
   "source": [
    "import re\n",
    "\n",
    "text=\"\"\"Hello my name is Data Science and my email address is xyz@domain.com and alternate email address is xyz.abc@sdomain.domain.com. \n",
    "Please contact us at hr@fliprobo.com for further information.\"\"\"\n",
    "\n",
    "email=re.findall(r\"\\S*@\\S+\",text)\n",
    "                 \n",
    "print(email)"
   ]
  },
  {
   "cell_type": "markdown",
   "id": "fdb39564",
   "metadata": {},
   "source": [
    "# Question 11- Write a Python program to match a string that contains only upper and lowercase letters, numbers, and underscores."
   ]
  },
  {
   "cell_type": "code",
   "execution_count": 18,
   "id": "dddaf1c0",
   "metadata": {},
   "outputs": [
    {
     "name": "stdout",
     "output_type": "stream",
     "text": [
      "True\n"
     ]
    }
   ],
   "source": [
    "import re\n",
    "text=\"Iamlovingthe7wonders\"\n",
    "str=re.compile(r\"[A-Za-z0-9_]*$\")\n",
    "print(bool(re.match(str, text)))"
   ]
  },
  {
   "cell_type": "code",
   "execution_count": 19,
   "id": "4b9fcbd8",
   "metadata": {},
   "outputs": [
    {
     "name": "stdout",
     "output_type": "stream",
     "text": [
      "False\n"
     ]
    }
   ],
   "source": [
    "import re\n",
    "text=\"Iam@loving the7wonders\"\n",
    "str=re.compile(r\"[A-Za-z0-9_]*$\")\n",
    "print(bool(re.match(str, text)))"
   ]
  },
  {
   "cell_type": "markdown",
   "id": "ee655752",
   "metadata": {},
   "source": [
    "# Question 12- Write a Python program where a string will start with a specific number. "
   ]
  },
  {
   "cell_type": "code",
   "execution_count": 20,
   "id": "b218356b",
   "metadata": {},
   "outputs": [
    {
     "name": "stdout",
     "output_type": "stream",
     "text": [
      "True\n",
      "False\n",
      "False\n",
      "False\n",
      "True\n"
     ]
    }
   ],
   "source": [
    "#finding string starting with '7'\n",
    "\n",
    "import re\n",
    "\n",
    "str=[\"746454\", \"254425\", \"524\", \"3547\", \"789\"]   \n",
    "for i in str:\n",
    "    x=re.compile(r\"^7\") \n",
    "    if x.match(i):\n",
    "        print(True)\n",
    "    else:\n",
    "        print(False) "
   ]
  },
  {
   "cell_type": "code",
   "execution_count": 21,
   "id": "6f1dec99",
   "metadata": {},
   "outputs": [
    {
     "name": "stdout",
     "output_type": "stream",
     "text": [
      "False\n",
      "True\n",
      "True\n",
      "False\n",
      "False\n"
     ]
    }
   ],
   "source": [
    "#finding string starting with 'A'\n",
    "\n",
    "import re\n",
    "\n",
    "str=[\"hitesh\", \"Anand\", \"Aarti\", \"Bharat\", \"Shiva\"]   \n",
    "for i in str:\n",
    "    x=re.compile(r\"^A\") \n",
    "    if x.match(i):\n",
    "        print(True)\n",
    "    else:\n",
    "        print(False) "
   ]
  },
  {
   "cell_type": "markdown",
   "id": "1428d2a6",
   "metadata": {},
   "source": [
    "# Question 13- Write a Python program to remove leading zeros from an IP address"
   ]
  },
  {
   "cell_type": "code",
   "execution_count": 22,
   "id": "f8a75a83",
   "metadata": {},
   "outputs": [
    {
     "name": "stdout",
     "output_type": "stream",
     "text": [
      "565.5.735.154\n"
     ]
    }
   ],
   "source": [
    "import re\n",
    "ip_add=\"565.05.0735.154\"\n",
    "str=re.sub(r'\\.[0]*', \".\",ip_add)\n",
    "print(str)"
   ]
  },
  {
   "cell_type": "markdown",
   "id": "460bacb8",
   "metadata": {},
   "source": [
    "# Question 14- Write a regular expression in python to match a date string in the form of Month name followed by day number and year stored in a text file."
   ]
  },
  {
   "cell_type": "code",
   "execution_count": 23,
   "id": "70617880",
   "metadata": {},
   "outputs": [
    {
     "name": "stdout",
     "output_type": "stream",
     "text": [
      "['August 15th 1947']\n"
     ]
    }
   ],
   "source": [
    "import re\n",
    "text='''On August 15th 1947 that India was declared independent from British colonialism, and the reins of control were handed over to the leaders of the Country'''\n",
    "\n",
    "print(re.findall(\"[A-Z][a-z]+\\s\\d{2}[a-z]{2}\\s\\d{4}\", text))"
   ]
  },
  {
   "cell_type": "markdown",
   "id": "26974f66",
   "metadata": {},
   "source": [
    "# Question 15- Write a Python program to search some literals strings in a string. "
   ]
  },
  {
   "cell_type": "code",
   "execution_count": 24,
   "id": "61581457",
   "metadata": {},
   "outputs": [
    {
     "name": "stdout",
     "output_type": "stream",
     "text": [
      "Found\n",
      "Found\n",
      "Not Found\n"
     ]
    }
   ],
   "source": [
    "text = 'The quick brown fox jumps over the lazy dog.'\n",
    "words=[\"fox\", \"dog\", \"horse\"] \n",
    "for i in words:\n",
    "    if re.search(i, text):\n",
    "        print(\"Found\")\n",
    "    else:\n",
    "        print(\"Not Found\")"
   ]
  },
  {
   "cell_type": "markdown",
   "id": "7d19bbd0",
   "metadata": {},
   "source": [
    "# Question 16- Write a Python program to search a literals string in a string and also find the location within the original string where the pattern occurs"
   ]
  },
  {
   "cell_type": "code",
   "execution_count": 25,
   "id": "0ab4cd38",
   "metadata": {},
   "outputs": [
    {
     "name": "stdout",
     "output_type": "stream",
     "text": [
      "<re.Match object; span=(16, 19), match='fox'>\n",
      "(16, 19)\n"
     ]
    }
   ],
   "source": [
    "text = 'The quick brown fox jumps over the lazy dog.'\n",
    "word=\"fox\"\n",
    "match=re.search(word, text)\n",
    "print (match)\n",
    "print (match.span())"
   ]
  },
  {
   "cell_type": "markdown",
   "id": "2653bdbe",
   "metadata": {},
   "source": [
    "# Question 17- Write a Python program to find the substrings within a string."
   ]
  },
  {
   "cell_type": "code",
   "execution_count": 26,
   "id": "530dee9b",
   "metadata": {},
   "outputs": [
    {
     "name": "stdout",
     "output_type": "stream",
     "text": [
      "<re.Match object; span=(7, 16), match='exercises'>\n"
     ]
    }
   ],
   "source": [
    "text = 'Python exercises, PHP exercises, C# exercises'\n",
    "pattern='exercises'\n",
    "print(re.search(pattern, text))"
   ]
  },
  {
   "cell_type": "markdown",
   "id": "d770c1a6",
   "metadata": {},
   "source": [
    "# Question 18- Write a Python program to find the occurrence and position of the substrings within a string."
   ]
  },
  {
   "cell_type": "code",
   "execution_count": 27,
   "id": "5bef5759",
   "metadata": {},
   "outputs": [
    {
     "name": "stdout",
     "output_type": "stream",
     "text": [
      "exercises 7 16\n",
      "exercises 22 31\n",
      "exercises 36 45\n"
     ]
    }
   ],
   "source": [
    "import re \n",
    "text = 'Python exercises, PHP exercises, C# exercises'\n",
    "all_matches= re.finditer('exercises', text)\n",
    "for match in all_matches:\n",
    "    print(match.group(), match.start(), match.end())"
   ]
  },
  {
   "cell_type": "markdown",
   "id": "248f77de",
   "metadata": {},
   "source": [
    "# Question 19- Write a Python program to convert a date of yyyy-mm-dd format to dd-mm-yyyy format."
   ]
  },
  {
   "cell_type": "code",
   "execution_count": 28,
   "id": "c3bbdaf9",
   "metadata": {},
   "outputs": [
    {
     "data": {
      "text/plain": [
       "'04-05-2014'"
      ]
     },
     "execution_count": 28,
     "metadata": {},
     "output_type": "execute_result"
    }
   ],
   "source": [
    "import re\n",
    "def new_date_format(date):\n",
    "    return re.sub(r'(\\d{4})-(\\d{2})-(\\d{2})', \"\\\\3-\\\\2-\\\\1\",date)\n",
    "dt1=\"2014-05-04\"\n",
    "new_date_format(dt1)"
   ]
  },
  {
   "cell_type": "markdown",
   "id": "3c7d92bb",
   "metadata": {},
   "source": [
    "# Question 20- Create a function in python to find all decimal numbers with a precision of 1 or 2 in a string. The use of the re.compile() method is mandatory."
   ]
  },
  {
   "cell_type": "code",
   "execution_count": 29,
   "id": "14ea840c",
   "metadata": {},
   "outputs": [
    {
     "name": "stdout",
     "output_type": "stream",
     "text": [
      "True\n",
      "False\n"
     ]
    }
   ],
   "source": [
    "def decimal(num):\n",
    "    import re\n",
    "    dec_num = re.compile(r\"^[0-9]+(\\.[0-9]{1,2})?$\")\n",
    "    return bool(re.search(dec_num, num))\n",
    "\n",
    "print(decimal('123.11'))\n",
    "print(decimal('123.14658'))"
   ]
  },
  {
   "cell_type": "markdown",
   "id": "9e988eb4",
   "metadata": {},
   "source": [
    "# Question 21- Write a Python program to separate and print the numbers and their position of a given string."
   ]
  },
  {
   "cell_type": "code",
   "execution_count": 30,
   "id": "9b8a55f8",
   "metadata": {},
   "outputs": [
    {
     "name": "stdout",
     "output_type": "stream",
     "text": [
      "7\n",
      "Index is :  26\n",
      "30\n",
      "Index is :  52\n"
     ]
    }
   ],
   "source": [
    "import re\n",
    "text=\"i would like to visit the 7 wonders of the world in 30 days\"\n",
    "match =re.finditer(\"\\d+\", text)\n",
    "for i in match:\n",
    "    print(i.group())\n",
    "    print('Index is : ', i.start())"
   ]
  },
  {
   "cell_type": "markdown",
   "id": "b8e5aa15",
   "metadata": {},
   "source": [
    "# Question 22- Write a regular expression in python program to extract maximum/largest numeric value from a string."
   ]
  },
  {
   "cell_type": "code",
   "execution_count": 31,
   "id": "e5b0cd53",
   "metadata": {},
   "outputs": [
    {
     "name": "stdout",
     "output_type": "stream",
     "text": [
      "['947', '896', '926', '524', '734', '950', '642']\n",
      "950\n"
     ]
    }
   ],
   "source": [
    "import re\n",
    "text=\"My marks in each semester are: 947, 896, 926, 524, 734, 950, 642\"\n",
    "num=re.findall(\"\\d+\", text)\n",
    "print (num)\n",
    "print(max(num))"
   ]
  },
  {
   "cell_type": "markdown",
   "id": "963a8e19",
   "metadata": {},
   "source": [
    "# Question 23- Create a function in python to insert spaces between words starting with capital letters."
   ]
  },
  {
   "cell_type": "code",
   "execution_count": 32,
   "id": "0a599a72",
   "metadata": {},
   "outputs": [
    {
     "name": "stdout",
     "output_type": "stream",
     "text": [
      "Regular Expression Is An Important Topic In Python\n"
     ]
    }
   ],
   "source": [
    "def new_text(text):\n",
    "    return re.sub(r\"(\\w)([A-Z])\", r\"\\1 \\2\", text)\n",
    "   \n",
    "print(new_text(\"RegularExpressionIsAnImportantTopicInPython\"))"
   ]
  },
  {
   "cell_type": "markdown",
   "id": "01359f65",
   "metadata": {},
   "source": [
    "# Question 24- Python regex to find sequences of one upper case letter followed by lower case letters"
   ]
  },
  {
   "cell_type": "code",
   "execution_count": 33,
   "id": "71abfd51",
   "metadata": {},
   "outputs": [
    {
     "name": "stdout",
     "output_type": "stream",
     "text": [
      "True\n"
     ]
    }
   ],
   "source": [
    "import re\n",
    "text= \"Python is an Amazing language\"\n",
    "print(bool(re.search('[A-Z][a-z]+', text))) "
   ]
  },
  {
   "cell_type": "code",
   "execution_count": 34,
   "id": "182fd79c",
   "metadata": {},
   "outputs": [
    {
     "name": "stdout",
     "output_type": "stream",
     "text": [
      "False\n"
     ]
    }
   ],
   "source": [
    "import re\n",
    "text= \"python is an amazing language\"\n",
    "print(bool(re.search('[A-Z][a-z]+', text)))"
   ]
  },
  {
   "cell_type": "code",
   "execution_count": 35,
   "id": "8f0b5508",
   "metadata": {},
   "outputs": [
    {
     "data": {
      "text/plain": [
       "'Not Matched'"
      ]
     },
     "execution_count": 35,
     "metadata": {},
     "output_type": "execute_result"
    }
   ],
   "source": [
    "import re\n",
    "def text(str):\n",
    "    match=re.compile('[A-Z][a-z]+')\n",
    "    if re.search(match, str):\n",
    "        return \"Matched\"\n",
    "    else:\n",
    "        return \"Not Matched\"\n",
    "\n",
    "text(\"python is an amazing language\")"
   ]
  },
  {
   "cell_type": "code",
   "execution_count": 36,
   "id": "9265cc23",
   "metadata": {},
   "outputs": [
    {
     "data": {
      "text/plain": [
       "'Matched'"
      ]
     },
     "execution_count": 36,
     "metadata": {},
     "output_type": "execute_result"
    }
   ],
   "source": [
    "import re\n",
    "def text(str):\n",
    "    match=re.compile('[A-Z][a-z]+')\n",
    "    if re.search(match, str):\n",
    "        return \"Matched\"\n",
    "    else:\n",
    "        return \"Not Matched\"\n",
    "\n",
    "text(\"Python is an Amazing language\")"
   ]
  },
  {
   "cell_type": "markdown",
   "id": "e4dd5229",
   "metadata": {},
   "source": [
    "# Question 25- Write a Python program to remove continuous duplicate words from Sentence using Regular Expression."
   ]
  },
  {
   "cell_type": "code",
   "execution_count": 37,
   "id": "469860b7",
   "metadata": {},
   "outputs": [
    {
     "name": "stdout",
     "output_type": "stream",
     "text": [
      "Hello hello world\n"
     ]
    }
   ],
   "source": [
    "import re\n",
    "text=\"Hello hello world world\"\n",
    "print(re.sub('\\\\b(\\\\w+)(?:\\\\W+\\\\1\\\\b)+',r'\\1', text))"
   ]
  },
  {
   "cell_type": "markdown",
   "id": "5568da7a",
   "metadata": {},
   "source": [
    "# Question 26-  Write a python program using RegEx to accept string ending with alphanumeric character."
   ]
  },
  {
   "cell_type": "code",
   "execution_count": 38,
   "id": "0f8a04c5",
   "metadata": {},
   "outputs": [
    {
     "name": "stdout",
     "output_type": "stream",
     "text": [
      "Not Matched\n"
     ]
    }
   ],
   "source": [
    "import re\n",
    "def text(str):\n",
    "    x= re.compile(r'[A-Za-z0-9]$')\n",
    "    if re.search(x, str):\n",
    "        print('Matched')\n",
    "    else:\n",
    "        print ('Not Matched')\n",
    "        \n",
    "text('bon007@')"
   ]
  },
  {
   "cell_type": "code",
   "execution_count": 39,
   "id": "a0218bd7",
   "metadata": {},
   "outputs": [
    {
     "name": "stdout",
     "output_type": "stream",
     "text": [
      "Matched\n"
     ]
    }
   ],
   "source": [
    "import re\n",
    "def text(str):\n",
    "    x= re.compile(r'[A-Za-z0-9]$')\n",
    "    if re.search(x, str):\n",
    "        print('Matched')\n",
    "    else:\n",
    "        print ('Not Matched')\n",
    "        \n",
    "text('bon007')"
   ]
  },
  {
   "cell_type": "markdown",
   "id": "67c88eee",
   "metadata": {},
   "source": [
    "# Question 27-Write a python program using RegEx to extract the hashtags."
   ]
  },
  {
   "cell_type": "code",
   "execution_count": 40,
   "id": "c3e4e5fb",
   "metadata": {},
   "outputs": [
    {
     "name": "stdout",
     "output_type": "stream",
     "text": [
      "['#Doltiwal', '#xyzabc', '#Demonetization']\n"
     ]
    }
   ],
   "source": [
    "import re\n",
    "text= \"\"\"RT @kapil_kausik: #Doltiwal I mean #xyzabc is \"hurt\" by #Demonetization as the same has rendered USELESS <ed><U+00A0><U+00BD><ed><U+00B1><U+0089> \"acquired funds\" No wo\"\"\"\n",
    "match=re.findall('#\\S+', text)\n",
    "print (match)"
   ]
  },
  {
   "cell_type": "markdown",
   "id": "9a10afd7",
   "metadata": {},
   "source": [
    "# Question 28- Write a python program using RegEx to remove <U+..> like symbols"
   ]
  },
  {
   "cell_type": "code",
   "execution_count": 41,
   "id": "5305e573",
   "metadata": {},
   "outputs": [
    {
     "name": "stdout",
     "output_type": "stream",
     "text": [
      "@Jags123456 Bharat band on 28??<ed><ed>Those who  are protesting #demonetization  are all different party leaders\n"
     ]
    }
   ],
   "source": [
    "text= \"@Jags123456 Bharat band on 28??<ed><U+00A0><U+00BD><ed><U+00B8><U+0082>Those who  are protesting #demonetization  are all different party leaders\"\n",
    "match=re.compile('<U\\+[A-Z0-9]*>')\n",
    "print(re.sub(match, '', text))"
   ]
  },
  {
   "cell_type": "markdown",
   "id": "51d397b4",
   "metadata": {},
   "source": [
    "# Question 29- Write a python program to extract dates from the text stored in the text file."
   ]
  },
  {
   "cell_type": "code",
   "execution_count": 42,
   "id": "9bd9d34e",
   "metadata": {},
   "outputs": [
    {
     "name": "stdout",
     "output_type": "stream",
     "text": [
      "['12-09-1992', '15-12-1999']\n"
     ]
    }
   ],
   "source": [
    "text=\"Ron was born on 12-09-1992 and he was admitted to school 15-12-1999.\"\n",
    "print(re.findall('\\d{2}-\\d{2}-\\d{4}', text))"
   ]
  },
  {
   "cell_type": "markdown",
   "id": "c6642a84",
   "metadata": {},
   "source": [
    "# Question 30- Create a function in python to remove all words from a string of length between 2 and 4."
   ]
  },
  {
   "cell_type": "code",
   "execution_count": 43,
   "id": "59162ef0",
   "metadata": {},
   "outputs": [
    {
     "name": "stdout",
     "output_type": "stream",
     "text": [
      " following example creates  ArrayList  a capacity   elements. 4 elements   added   ArrayList   ArrayList  trimmed accordingly.\n"
     ]
    }
   ],
   "source": [
    "text=\"The following example creates an ArrayList with a capacity of 50 elements. 4 elements are then added to the ArrayList and the ArrayList is trimmed accordingly.\"\n",
    "print(re.sub(r'\\b\\w{2,4}\\b',\"\", text))   "
   ]
  },
  {
   "cell_type": "code",
   "execution_count": null,
   "id": "50eecbb1",
   "metadata": {},
   "outputs": [],
   "source": []
  }
 ],
 "metadata": {
  "kernelspec": {
   "display_name": "Python 3 (ipykernel)",
   "language": "python",
   "name": "python3"
  },
  "language_info": {
   "codemirror_mode": {
    "name": "ipython",
    "version": 3
   },
   "file_extension": ".py",
   "mimetype": "text/x-python",
   "name": "python",
   "nbconvert_exporter": "python",
   "pygments_lexer": "ipython3",
   "version": "3.9.13"
  }
 },
 "nbformat": 4,
 "nbformat_minor": 5
}
